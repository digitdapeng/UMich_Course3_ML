{
 "cells": [
  {
   "cell_type": "markdown",
   "metadata": {},
   "source": [
    "---\n",
    "\n",
    "_You are currently looking at **version 1.1** of this notebook. To download notebooks and datafiles, as well as get help on Jupyter notebooks in the Coursera platform, visit the [Jupyter Notebook FAQ](https://www.coursera.org/learn/python-machine-learning/resources/bANLa) course resource._\n",
    "\n",
    "---"
   ]
  },
  {
   "cell_type": "markdown",
   "metadata": {},
   "source": [
    "## Assignment 4 - Understanding and Predicting Property Maintenance Fines\n",
    "\n",
    "This assignment is based on a data challenge from the Michigan Data Science Team ([MDST](http://midas.umich.edu/mdst/)). \n",
    "\n",
    "The Michigan Data Science Team ([MDST](http://midas.umich.edu/mdst/)) and the Michigan Student Symposium for Interdisciplinary Statistical Sciences ([MSSISS](https://sites.lsa.umich.edu/mssiss/)) have partnered with the City of Detroit to help solve one of the most pressing problems facing Detroit - blight. [Blight violations](http://www.detroitmi.gov/How-Do-I/Report/Blight-Complaint-FAQs) are issued by the city to individuals who allow their properties to remain in a deteriorated condition. Every year, the city of Detroit issues millions of dollars in fines to residents and every year, many of these fines remain unpaid. Enforcing unpaid blight fines is a costly and tedious process, so the city wants to know: how can we increase blight ticket compliance?\n",
    "\n",
    "The first step in answering this question is understanding when and why a resident might fail to comply with a blight ticket. This is where predictive modeling comes in. For this assignment, your task is to predict whether a given blight ticket will be paid on time.\n",
    "\n",
    "All data for this assignment has been provided to us through the [Detroit Open Data Portal](https://data.detroitmi.gov/). **Only the data already included in your Coursera directory can be used for training the model for this assignment.** Nonetheless, we encourage you to look into data from other Detroit datasets to help inform feature creation and model selection. We recommend taking a look at the following related datasets:\n",
    "\n",
    "* [Building Permits](https://data.detroitmi.gov/Property-Parcels/Building-Permits/xw2a-a7tf)\n",
    "* [Trades Permits](https://data.detroitmi.gov/Property-Parcels/Trades-Permits/635b-dsgv)\n",
    "* [Improve Detroit: Submitted Issues](https://data.detroitmi.gov/Government/Improve-Detroit-Submitted-Issues/fwz3-w3yn)\n",
    "* [DPD: Citizen Complaints](https://data.detroitmi.gov/Public-Safety/DPD-Citizen-Complaints-2016/kahe-efs3)\n",
    "* [Parcel Map](https://data.detroitmi.gov/Property-Parcels/Parcel-Map/fxkw-udwf)\n",
    "\n",
    "___\n",
    "\n",
    "We provide you with two data files for use in training and validating your models: train.csv and test.csv. Each row in these two files corresponds to a single blight ticket, and includes information about when, why, and to whom each ticket was issued. The target variable is compliance, which is True if the ticket was paid early, on time, or within one month of the hearing data, False if the ticket was paid after the hearing date or not at all, and Null if the violator was found not responsible. Compliance, as well as a handful of other variables that will not be available at test-time, are only included in train.csv.\n",
    "\n",
    "Note: All tickets where the violators were found not responsible are not considered during evaluation. They are included in the training set as an additional source of data for visualization, and to enable unsupervised and semi-supervised approaches. However, they are not included in the test set.\n",
    "\n",
    "<br>\n",
    "\n",
    "**File descriptions** (Use only this data for training your model!)\n",
    "\n",
    "    readonly/train.csv - the training set (all tickets issued 2004-2011)\n",
    "    readonly/test.csv - the test set (all tickets issued 2012-2016)\n",
    "    readonly/addresses.csv & readonly/latlons.csv - mapping from ticket id to addresses, and from addresses to lat/lon coordinates. \n",
    "     Note: misspelled addresses may be incorrectly geolocated.\n",
    "\n",
    "<br>\n",
    "\n",
    "**Data fields**\n",
    "\n",
    "train.csv & test.csv\n",
    "\n",
    "    ticket_id - unique identifier for tickets\n",
    "    agency_name - Agency that issued the ticket\n",
    "    inspector_name - Name of inspector that issued the ticket\n",
    "    violator_name - Name of the person/organization that the ticket was issued to\n",
    "    violation_street_number, violation_street_name, violation_zip_code - Address where the violation occurred\n",
    "    mailing_address_str_number, mailing_address_str_name, city, state, zip_code, non_us_str_code, country - Mailing address of the violator\n",
    "    ticket_issued_date - Date and time the ticket was issued\n",
    "    hearing_date - Date and time the violator's hearing was scheduled\n",
    "    violation_code, violation_description - Type of violation\n",
    "    disposition - Judgment and judgement type\n",
    "    fine_amount - Violation fine amount, excluding fees\n",
    "    admin_fee - $20 fee assigned to responsible judgments\n",
    "state_fee - $10 fee assigned to responsible judgments\n",
    "    late_fee - 10% fee assigned to responsible judgments\n",
    "    discount_amount - discount applied, if any\n",
    "    clean_up_cost - DPW clean-up or graffiti removal cost\n",
    "    judgment_amount - Sum of all fines and fees\n",
    "    grafitti_status - Flag for graffiti violations\n",
    "    \n",
    "train.csv only\n",
    "\n",
    "    payment_amount - Amount paid, if any\n",
    "    payment_date - Date payment was made, if it was received\n",
    "    payment_status - Current payment status as of Feb 1 2017\n",
    "    balance_due - Fines and fees still owed\n",
    "    collection_status - Flag for payments in collections\n",
    "    compliance [target variable for prediction] \n",
    "     Null = Not responsible\n",
    "     0 = Responsible, non-compliant\n",
    "     1 = Responsible, compliant\n",
    "    compliance_detail - More information on why each ticket was marked compliant or non-compliant\n",
    "\n",
    "\n",
    "___\n",
    "\n",
    "## Evaluation\n",
    "\n",
    "Your predictions will be given as the probability that the corresponding blight ticket will be paid on time.\n",
    "\n",
    "The evaluation metric for this assignment is the Area Under the ROC Curve (AUC). \n",
    "\n",
    "Your grade will be based on the AUC score computed for your classifier. A model which with an AUROC of 0.7 passes this assignment, over 0.75 will recieve full points.\n",
    "___\n",
    "\n",
    "For this assignment, create a function that trains a model to predict blight ticket compliance in Detroit using `readonly/train.csv`. Using this model, return a series of length 61001 with the data being the probability that each corresponding ticket from `readonly/test.csv` will be paid, and the index being the ticket_id.\n",
    "\n",
    "Example:\n",
    "\n",
    "    ticket_id\n",
    "       284932    0.531842\n",
    "       285362    0.401958\n",
    "       285361    0.105928\n",
    "       285338    0.018572\n",
    "                 ...\n",
    "       376499    0.208567\n",
    "       376500    0.818759\n",
    "       369851    0.018528\n",
    "       Name: compliance, dtype: float32\n",
    "       \n",
    "### Hints\n",
    "\n",
    "* Make sure your code is working before submitting it to the autograder.\n",
    "\n",
    "* Print out your result to see whether there is anything weird (e.g., all probabilities are the same).\n",
    "\n",
    "* Generally the total runtime should be less than 10 mins. You should NOT use Neural Network related classifiers (e.g., MLPClassifier) in this question. \n",
    "\n",
    "* Try to avoid global variables. If you have other functions besides blight_model, you should move those functions inside the scope of blight_model.\n",
    "\n",
    "* Refer to the pinned threads in Week 4's discussion forum when there is something you could not figure it out."
   ]
  },
  {
   "cell_type": "code",
   "execution_count": 215,
   "metadata": {},
   "outputs": [],
   "source": [
    "import pandas as pd\n",
    "import numpy as np\n",
    "#import matplotlib.pyplot as plt\n",
    "#import seaborn as sns\n",
    "from sklearn.model_selection import train_test_split\n",
    "from sklearn.metrics import roc_curve, auc\n",
    "from sklearn.linear_model import LogisticRegression\n",
    "from sklearn.ensemble import ExtraTreesClassifier\n",
    "from sklearn.ensemble import RandomForestClassifier \n",
    "from sklearn.ensemble import GradientBoostingClassifier\n",
    "from datetime import datetime\n",
    "from datetime import timedelta\n",
    "\n",
    "#from sklearn.preprocessing import LabelEncoder\n",
    "#%matplotlib inline\n",
    "\n",
    "def blight_model():\n",
    "    \n",
    "    def time_gap(hearing_date_str, ticket_issued_date_str):\n",
    "        from datetime import datetime\n",
    "        from datetime import timedelta\n",
    "        if not hearing_date_str or type(hearing_date_str)!=str: return 73\n",
    "        hearing_date = datetime.strptime(hearing_date_str, \"%Y-%m-%d %H:%M:%S\")\n",
    "        ticket_issued_date = datetime.strptime(ticket_issued_date_str, \"%Y-%m-%d %H:%M:%S\")\n",
    "\n",
    "        gap = hearing_date - ticket_issued_date\n",
    "        return gap.days\n",
    "    \n",
    "    train_data = pd.read_csv('train.csv', encoding = 'ISO-8859-1',low_memory=False)\n",
    "    test_data = pd.read_csv('test.csv',encoding = 'ISO-8859-1',low_memory=False)\n",
    "    isnan=train_data['compliance'].isnull()\n",
    "    train_data=train_data[-isnan]\n",
    "    \n",
    "    address =  pd.read_csv('addresses.csv')\n",
    "    latlons = pd.read_csv('latlons.csv')\n",
    "    \n",
    "    address = address.set_index('address').join(latlons.set_index('address'), how='left')\n",
    "    \n",
    "    train_data = train_data.set_index('ticket_id').join(address.set_index('ticket_id'))\n",
    "    test_data = test_data.set_index('ticket_id').join(address.set_index('ticket_id'))\n",
    "    \n",
    "    train_data.loc[89535,['lat','lon']]=[42.446540,-83.023300]  #2 record has nan on lat and lon, manually insert value\n",
    "    \n",
    "    #train_data = train_data[~train_data['hearing_date'].isnull()]\n",
    "    #train_data['hearing_date']=pd.to_datetime(train_data['hearing_date'], format='%Y-%m-%d %H:%M:%S')\n",
    "    #train_data['ticket_issued_date']=pd.to_datetime(train_data['ticket_issued_date'], format='%Y-%m-%d %H:%M:%S')\n",
    "    #test_data['hearing_date']=pd.to_datetime(test_data['hearing_date'], format='%Y-%m-%d %H:%M:%S')\n",
    "    #test_data['ticket_issued_date']=pd.to_datetime(test_data['ticket_issued_date'], format='%Y-%m-%d %H:%M:%S')\n",
    "    \n",
    "    train_data['time_gap'] = train_data.apply(lambda row: time_gap(row['hearing_date'], row['ticket_issued_date']), axis=1)\n",
    "    test_data['time_gap'] = test_data.apply(lambda row: time_gap(row['hearing_date'], row['ticket_issued_date']), axis=1)\n",
    "    \n",
    "    #train_data.loc[train_data['time_gap'].isnull(),'time_gap']=train_data['time_gap'].mean()\n",
    "    #test_data.loc[test_data['time_gap'].isnull(),'time_gap']=test_data['time_gap'].mean()\n",
    "    \n",
    "    feature_to_be_splitted = ['agency_name', 'state', 'disposition']\n",
    "    train_data.lat.fillna(method='pad', inplace=True)\n",
    "    train_data.lon.fillna(method='pad', inplace=True)\n",
    "    train_data.state.fillna(method='pad', inplace=True)\n",
    "\n",
    "    test_data.lat.fillna(method='pad', inplace=True)\n",
    "    test_data.lon.fillna(method='pad', inplace=True)\n",
    "    test_data.state.fillna(method='pad', inplace=True)\n",
    "    train_data = pd.get_dummies(train_data, columns=feature_to_be_splitted)\n",
    "    test_data = pd.get_dummies(test_data, columns=feature_to_be_splitted)\n",
    "    list_to_remove_train = [\n",
    "        'balance_due',\n",
    "        'collection_status',\n",
    "        'compliance_detail',\n",
    "        'payment_amount',\n",
    "        'payment_date',\n",
    "        'payment_status'\n",
    "    ]\n",
    "    list_to_remove_all = ['fine_amount', 'violator_name', 'zip_code', 'country', 'city',\n",
    "                          'inspector_name', 'violation_street_number', 'violation_street_name',\n",
    "                          'violation_zip_code', 'violation_description',\n",
    "                          'mailing_address_str_number', 'mailing_address_str_name',\n",
    "                          'non_us_str_code',\n",
    "                          'ticket_issued_date', 'hearing_date', 'grafitti_status', 'violation_code']\n",
    "    train_data.drop(list_to_remove_train, axis=1, inplace=True)\n",
    "    train_data.drop(list_to_remove_all, axis=1, inplace=True)\n",
    "    test_data.drop(list_to_remove_all, axis=1, inplace=True)\n",
    "    \n",
    "    train_features = train_data.columns.drop('compliance')\n",
    "    train_features_set = set(train_features)\n",
    "    \n",
    "    for feature in set(train_features):\n",
    "        if feature not in test_data:\n",
    "            train_features_set.remove(feature)\n",
    "    train_features = list(train_features_set)\n",
    "\n",
    "    \n",
    "    train_target=train_data['compliance']\n",
    "    X_train=train_data[train_features]\n",
    "    X_test=test_data[train_features]\n",
    "    \n",
    "    #X_train, X_test, y_train, y_test = train_test_split(train_data, train_target, random_state=0)\n",
    "    clf = GradientBoostingClassifier(learning_rate = 0.01, max_depth = 3, random_state = 0).fit(X_train, train_target)\n",
    "    #y_score_gb = clf.fit(X_train, train_target).decision_function(X_test)\n",
    "    test_proba = clf.predict_proba(X_test)[:,1]\n",
    "    prob = pd.Series(test_proba, index = test_data.index)\n",
    "    #fpr_gb, tpr_gb, _ = roc_curve(y_test, y_score_gb)\n",
    "    #roc_auc_gb = auc(fpr_gb, tpr_gb)\n",
    "\n",
    "    \"\"\"\n",
    "    plt.figure()\n",
    "    plt.xlim([-0.01, 1.00])\n",
    "    plt.ylim([-0.01, 1.01])\n",
    "    plt.plot(fpr_gb, tpr_gb, lw=3, label='GB ROC curve (area = {:0.2f})'.format(roc_auc_gb))\n",
    "    plt.xlabel('False Positive Rate', fontsize=16)\n",
    "    plt.ylabel('True Positive Rate', fontsize=16)\n",
    "    plt.title('ROC curve', fontsize=16)\n",
    "    plt.legend(loc='lower right', fontsize=13)\n",
    "    plt.plot([0, 1], [0, 1], color='navy', lw=3, linestyle='--')\n",
    "    plt.axes().set_aspect('equal')\n",
    "    plt.show()\n",
    "    \"\"\"\n",
    "    \n",
    "    \"\"\"\n",
    "    X_train = train_data[train_features]\n",
    "    y_train = train_data.compliance\n",
    "    X_test = test_data[train_features]\n",
    "    \n",
    "    scaler = MinMaxScaler()\n",
    "    X_train_scaled = scaler.fit_transform(X_train)\n",
    "    X_test_scaled = scaler.transform(X_test)\n",
    "    \n",
    "    clf = MLPClassifier(hidden_layer_sizes = [100, 10], alpha = 5,\n",
    "                       random_state = 0, solver='lbfgs', verbose=0)\n",
    "    clf.fit(X_train_scaled, y_train)\n",
    "\n",
    "    test_proba = clf.predict_proba(X_test_scaled)[:,1]\n",
    "\n",
    "    \n",
    "    test_df = pd.read_csv('test.csv', encoding = \"ISO-8859-1\")\n",
    "    test_df['compliance'] = test_proba\n",
    "    test_df.set_index('ticket_id', inplace=True)\n",
    "    \"\"\"\n",
    "    return prob"
   ]
  },
  {
   "cell_type": "code",
   "execution_count": 216,
   "metadata": {},
   "outputs": [
    {
     "name": "stdout",
     "output_type": "stream",
     "text": [
      "ticket_id\n",
      "284932    0.058623\n",
      "285362    0.042124\n",
      "285361    0.058623\n",
      "285338    0.060005\n",
      "285346    0.060005\n",
      "285345    0.060005\n",
      "285347    0.060005\n",
      "285342    0.607735\n",
      "285530    0.043135\n",
      "284989    0.043135\n",
      "285344    0.060005\n",
      "285343    0.043135\n",
      "285340    0.043135\n",
      "285341    0.060005\n",
      "285349    0.060005\n",
      "285348    0.060005\n",
      "284991    0.043135\n",
      "285532    0.043135\n",
      "285406    0.042124\n",
      "285001    0.043135\n",
      "285006    0.043135\n",
      "285405    0.042124\n",
      "285337    0.042124\n",
      "285496    0.058623\n",
      "285497    0.058623\n",
      "285378    0.042124\n",
      "285589    0.042124\n",
      "285585    0.058623\n",
      "285501    0.058623\n",
      "285581    0.042124\n",
      "            ...   \n",
      "376367    0.042124\n",
      "376366    0.045153\n",
      "376362    0.153488\n",
      "376363    0.153488\n",
      "376365    0.042124\n",
      "376364    0.045153\n",
      "376228    0.045153\n",
      "376265    0.045153\n",
      "376286    0.165487\n",
      "376320    0.045153\n",
      "376314    0.045153\n",
      "376327    0.165487\n",
      "376385    0.165487\n",
      "376435    0.596870\n",
      "376370    0.607735\n",
      "376434    0.058623\n",
      "376459    0.058623\n",
      "376478    0.042124\n",
      "376473    0.045153\n",
      "376484    0.042124\n",
      "376482    0.042124\n",
      "376480    0.042124\n",
      "376479    0.042124\n",
      "376481    0.042124\n",
      "376483    0.045153\n",
      "376496    0.042124\n",
      "376497    0.042124\n",
      "376499    0.058623\n",
      "376500    0.058623\n",
      "369851    0.563168\n",
      "Length: 61001, dtype: float64\n"
     ]
    }
   ],
   "source": [
    "print(blight_model())"
   ]
  },
  {
   "cell_type": "code",
   "execution_count": 144,
   "metadata": {},
   "outputs": [],
   "source": [
    "import pandas as pd\n",
    "import numpy as np\n",
    "import matplotlib.pyplot as plt\n",
    "import seaborn as sns\n",
    "from sklearn.model_selection import train_test_split\n",
    "from sklearn.ensemble import GradientBoostingClassifier\n",
    "from sklearn.preprocessing import MinMaxScaler\n",
    "from sklearn.tree import DecisionTreeClassifier\n",
    "from datetime import datetime\n",
    "from sklearn.metrics import roc_curve, auc"
   ]
  },
  {
   "cell_type": "code",
   "execution_count": null,
   "metadata": {
    "collapsed": true
   },
   "outputs": [],
   "source": []
  },
  {
   "cell_type": "code",
   "execution_count": 145,
   "metadata": {},
   "outputs": [],
   "source": [
    "pd.set_option('display.max_columns', None)"
   ]
  },
  {
   "cell_type": "code",
   "execution_count": 146,
   "metadata": {},
   "outputs": [],
   "source": [
    "train_data = pd.read_csv('train.csv', encoding = 'ISO-8859-1',low_memory=False)\n",
    "test_data = pd.read_csv('test.csv',encoding = 'ISO-8859-1',low_memory=False)\n",
    "isnan=train_data['compliance'].isnull()\n",
    "train_data=train_data[-isnan]\n"
   ]
  },
  {
   "cell_type": "code",
   "execution_count": 174,
   "metadata": {},
   "outputs": [
    {
     "data": {
      "text/plain": [
       "(159880, 13)"
      ]
     },
     "execution_count": 174,
     "metadata": {},
     "output_type": "execute_result"
    }
   ],
   "source": [
    "train_data.shape"
   ]
  },
  {
   "cell_type": "code",
   "execution_count": 175,
   "metadata": {},
   "outputs": [
    {
     "data": {
      "text/plain": [
       "(61001, 12)"
      ]
     },
     "execution_count": 175,
     "metadata": {},
     "output_type": "execute_result"
    }
   ],
   "source": [
    "test_data.shape"
   ]
  },
  {
   "cell_type": "code",
   "execution_count": 155,
   "metadata": {},
   "outputs": [],
   "source": [
    "address =  pd.read_csv('addresses.csv')\n",
    "latlons = pd.read_csv('latlons.csv')"
   ]
  },
  {
   "cell_type": "code",
   "execution_count": 156,
   "metadata": {},
   "outputs": [],
   "source": [
    "address = address.set_index('address').join(latlons.set_index('address'), how='left')\n",
    "train_data = train_data.set_index('ticket_id').join(address.set_index('ticket_id'))\n",
    "test_data = test_data.set_index('ticket_id').join(address.set_index('ticket_id'))"
   ]
  },
  {
   "cell_type": "code",
   "execution_count": 157,
   "metadata": {},
   "outputs": [],
   "source": [
    "train_data.loc[89535,['lat','lon']]=[42.446540,-83.023300]  #2 record has nan on lat and lon, manually insert value"
   ]
  },
  {
   "cell_type": "code",
   "execution_count": 164,
   "metadata": {},
   "outputs": [],
   "source": [
    "train_data['hearing_date']=pd.to_datetime(train_data['hearing_date'], format='%Y-%m-%d %H:%M:%S')\n",
    "train_data['ticket_issued_date']=pd.to_datetime(train_data['ticket_issued_date'], format='%Y-%m-%d %H:%M:%S')\n",
    "test_data['hearing_date']=pd.to_datetime(test_data['hearing_date'], format='%Y-%m-%d %H:%M:%S')\n",
    "test_data['ticket_issued_date']=pd.to_datetime(test_data['ticket_issued_date'], format='%Y-%m-%d %H:%M:%S')"
   ]
  },
  {
   "cell_type": "code",
   "execution_count": 165,
   "metadata": {},
   "outputs": [],
   "source": [
    "def time_gap(hearing_date, ticket_issued_date):\n",
    "    gap = hearing_date - ticket_issued_date\n",
    "    return gap.days\n"
   ]
  },
  {
   "cell_type": "code",
   "execution_count": 166,
   "metadata": {},
   "outputs": [],
   "source": [
    "train_data['time_gap'] = train_data.apply(lambda row: time_gap(row['hearing_date'], row['ticket_issued_date']), axis=1)\n",
    "test_data['time_gap'] = test_data.apply(lambda row: time_gap(row['hearing_date'], row['ticket_issued_date']), axis=1)\n",
    "train_data.loc[train_data['time_gap'].isnull(),'time_gap']=train_data['time_gap'].mean()\n",
    "test_data.loc[test_data['time_gap'].isnull(),'time_gap']=test_data['time_gap'].mean()  "
   ]
  },
  {
   "cell_type": "code",
   "execution_count": 167,
   "metadata": {},
   "outputs": [],
   "source": [
    "feature_to_be_splitted = ['agency_name', 'state', 'disposition']\n",
    "train_data.lat.fillna(method='pad', inplace=True)\n",
    "train_data.lon.fillna(method='pad', inplace=True)\n",
    "train_data.state.fillna(method='pad', inplace=True)\n",
    "\n",
    "test_data.lat.fillna(method='pad', inplace=True)\n",
    "test_data.lon.fillna(method='pad', inplace=True)\n",
    "test_data.state.fillna(method='pad', inplace=True)\n"
   ]
  },
  {
   "cell_type": "code",
   "execution_count": 152,
   "metadata": {},
   "outputs": [],
   "source": [
    "list_to_remove_train = [\n",
    "        'balance_due',\n",
    "        'collection_status',\n",
    "        'compliance_detail',\n",
    "        'payment_amount',\n",
    "        'payment_date',\n",
    "        'payment_status'\n",
    "]\n",
    "list_to_remove_all = ['fine_amount', 'violator_name', 'zip_code', 'country', 'city',\n",
    "                          'inspector_name', 'violation_street_number', 'violation_street_name',\n",
    "                          'violation_zip_code', 'violation_description',\n",
    "                          'mailing_address_str_number', 'mailing_address_str_name',\n",
    "                          'non_us_str_code',\n",
    "                          'ticket_issued_date', 'hearing_date', 'grafitti_status', 'violation_code']\n"
   ]
  },
  {
   "cell_type": "code",
   "execution_count": 153,
   "metadata": {},
   "outputs": [],
   "source": [
    "train_data.drop(columns=list_to_remove_train, inplace=True)"
   ]
  },
  {
   "cell_type": "code",
   "execution_count": 173,
   "metadata": {},
   "outputs": [],
   "source": [
    "\n",
    "train_data.drop(columns=list_to_remove_all, inplace=True)\n",
    "test_data.drop(columns=list_to_remove_all, inplace=True)"
   ]
  },
  {
   "cell_type": "code",
   "execution_count": 179,
   "metadata": {},
   "outputs": [],
   "source": [
    "train_data = pd.get_dummies(train_data, columns=feature_to_be_splitted)\n",
    "test_data = pd.get_dummies(test_data, columns=feature_to_be_splitted)"
   ]
  },
  {
   "cell_type": "code",
   "execution_count": 185,
   "metadata": {},
   "outputs": [],
   "source": [
    "train_features = train_data.columns.drop('compliance')\n",
    "train_features_set = set(train_features)"
   ]
  },
  {
   "cell_type": "code",
   "execution_count": 186,
   "metadata": {},
   "outputs": [],
   "source": [
    "for feature in set(train_features):\n",
    "    if feature not in test_data:\n",
    "        train_features_set.remove(feature)\n",
    "train_features = list(train_features_set)\n",
    "    \n",
    "X_train = train_data[train_features]\n",
    "y_train = train_data.compliance\n",
    "X_test = test_data[train_features]"
   ]
  },
  {
   "cell_type": "code",
   "execution_count": 188,
   "metadata": {},
   "outputs": [
    {
     "data": {
      "text/plain": [
       "(61001, 74)"
      ]
     },
     "execution_count": 188,
     "metadata": {},
     "output_type": "execute_result"
    }
   ],
   "source": [
    "X_test.shape"
   ]
  },
  {
   "cell_type": "code",
   "execution_count": 189,
   "metadata": {},
   "outputs": [],
   "source": [
    "clf = GradientBoostingClassifier(learning_rate = 0.01, max_depth = 3, random_state = 0).fit(X_train, y_train)"
   ]
  },
  {
   "cell_type": "code",
   "execution_count": 190,
   "metadata": {},
   "outputs": [],
   "source": [
    "y_score_gb = clf.decision_function(X_test)"
   ]
  },
  {
   "cell_type": "code",
   "execution_count": 191,
   "metadata": {},
   "outputs": [
    {
     "data": {
      "text/plain": [
       "array([-2.77621927, -3.12410429, -2.77621927, ..., -2.77621927,\n",
       "       -2.77621927,  0.25402999])"
      ]
     },
     "execution_count": 191,
     "metadata": {},
     "output_type": "execute_result"
    }
   ],
   "source": [
    "y_score_gb"
   ]
  },
  {
   "cell_type": "code",
   "execution_count": 208,
   "metadata": {},
   "outputs": [
    {
     "data": {
      "text/plain": [
       "tuple"
      ]
     },
     "execution_count": 208,
     "metadata": {},
     "output_type": "execute_result"
    }
   ],
   "source": [
    "type((X_test.index,y_score_gb))"
   ]
  },
  {
   "cell_type": "code",
   "execution_count": 192,
   "metadata": {},
   "outputs": [],
   "source": [
    "test_proba = clf.predict_proba(X_test)[:,1]"
   ]
  },
  {
   "cell_type": "code",
   "execution_count": 209,
   "metadata": {},
   "outputs": [],
   "source": [
    "bm = pd.Series(test_proba, index = test_data.index)"
   ]
  },
  {
   "cell_type": "code",
   "execution_count": 210,
   "metadata": {},
   "outputs": [
    {
     "data": {
      "text/plain": [
       "ticket_id\n",
       "284932    0.058623\n",
       "285362    0.042124\n",
       "285361    0.058623\n",
       "285338    0.060005\n",
       "285346    0.060005\n",
       "285345    0.060005\n",
       "285347    0.060005\n",
       "285342    0.607735\n",
       "285530    0.043135\n",
       "284989    0.043135\n",
       "285344    0.060005\n",
       "285343    0.043135\n",
       "285340    0.043135\n",
       "285341    0.060005\n",
       "285349    0.060005\n",
       "285348    0.060005\n",
       "284991    0.043135\n",
       "285532    0.043135\n",
       "285406    0.042124\n",
       "285001    0.043135\n",
       "285006    0.043135\n",
       "285405    0.042124\n",
       "285337    0.042124\n",
       "285496    0.058623\n",
       "285497    0.058623\n",
       "285378    0.042124\n",
       "285589    0.042124\n",
       "285585    0.058623\n",
       "285501    0.058623\n",
       "285581    0.042124\n",
       "            ...   \n",
       "376367    0.042124\n",
       "376366    0.045153\n",
       "376362    0.153488\n",
       "376363    0.153488\n",
       "376365    0.042124\n",
       "376364    0.045153\n",
       "376228    0.045153\n",
       "376265    0.045153\n",
       "376286    0.165487\n",
       "376320    0.045153\n",
       "376314    0.045153\n",
       "376327    0.165487\n",
       "376385    0.165487\n",
       "376435    0.596870\n",
       "376370    0.607735\n",
       "376434    0.058623\n",
       "376459    0.058623\n",
       "376478    0.042124\n",
       "376473    0.045153\n",
       "376484    0.042124\n",
       "376482    0.042124\n",
       "376480    0.042124\n",
       "376479    0.042124\n",
       "376481    0.042124\n",
       "376483    0.045153\n",
       "376496    0.042124\n",
       "376497    0.042124\n",
       "376499    0.058623\n",
       "376500    0.058623\n",
       "369851    0.563168\n",
       "Length: 61001, dtype: float64"
      ]
     },
     "execution_count": 210,
     "metadata": {},
     "output_type": "execute_result"
    }
   ],
   "source": [
    "bm"
   ]
  },
  {
   "cell_type": "code",
   "execution_count": 197,
   "metadata": {},
   "outputs": [
    {
     "data": {
      "text/plain": [
       "(array([2.1819e+04, 2.9034e+04, 0.0000e+00, 0.0000e+00, 7.0000e+00,\n",
       "        4.0000e+00, 5.2000e+01, 2.8800e+02, 1.7100e+02, 1.2010e+03,\n",
       "        4.2090e+03, 1.8000e+01, 7.0000e+01, 2.2000e+01, 0.0000e+00,\n",
       "        0.0000e+00, 0.0000e+00, 0.0000e+00, 0.0000e+00, 0.0000e+00,\n",
       "        0.0000e+00, 0.0000e+00, 0.0000e+00, 0.0000e+00, 0.0000e+00,\n",
       "        0.0000e+00, 0.0000e+00, 0.0000e+00, 0.0000e+00, 0.0000e+00,\n",
       "        0.0000e+00, 0.0000e+00, 0.0000e+00, 0.0000e+00, 0.0000e+00,\n",
       "        0.0000e+00, 0.0000e+00, 0.0000e+00, 6.0000e+00, 1.0000e+01,\n",
       "        0.0000e+00, 0.0000e+00, 7.5000e+01, 3.3000e+01, 4.6200e+02,\n",
       "        2.4600e+02, 0.0000e+00, 1.3600e+02, 2.6770e+03, 4.6100e+02]),\n",
       " array([0.04212385, 0.05385686, 0.06558986, 0.07732286, 0.08905586,\n",
       "        0.10078886, 0.11252186, 0.12425486, 0.13598787, 0.14772087,\n",
       "        0.15945387, 0.17118687, 0.18291987, 0.19465287, 0.20638588,\n",
       "        0.21811888, 0.22985188, 0.24158488, 0.25331788, 0.26505088,\n",
       "        0.27678388, 0.28851689, 0.30024989, 0.31198289, 0.32371589,\n",
       "        0.33544889, 0.34718189, 0.35891489, 0.3706479 , 0.3823809 ,\n",
       "        0.3941139 , 0.4058469 , 0.4175799 , 0.4293129 , 0.4410459 ,\n",
       "        0.45277891, 0.46451191, 0.47624491, 0.48797791, 0.49971091,\n",
       "        0.51144391, 0.52317691, 0.53490992, 0.54664292, 0.55837592,\n",
       "        0.57010892, 0.58184192, 0.59357492, 0.60530792, 0.61704093,\n",
       "        0.62877393]),\n",
       " <a list of 50 Patch objects>)"
      ]
     },
     "execution_count": 197,
     "metadata": {},
     "output_type": "execute_result"
    },
    {
     "data": {
      "image/png": "[encoded data removed]",
      "text/plain": [
       "<Figure size 432x288 with 1 Axes>"
      ]
     },
     "metadata": {
      "needs_background": "light"
     },
     "output_type": "display_data"
    }
   ],
   "source": [
    "plt.hist(test_proba,50)"
   ]
  },
  {
   "cell_type": "code",
   "execution_count": null,
   "metadata": {},
   "outputs": [],
   "source": []
  },
  {
   "cell_type": "code",
   "execution_count": null,
   "metadata": {},
   "outputs": [],
   "source": [
    "traincol=train_data.columns\n",
    "testcol=test_data.columns"
   ]
  },
  {
   "cell_type": "code",
   "execution_count": null,
   "metadata": {},
   "outputs": [],
   "source": [
    "print(train_data.shape)\n",
    "print(test_data.shape)"
   ]
  },
  {
   "cell_type": "code",
   "execution_count": null,
   "metadata": {},
   "outputs": [],
   "source": [
    "for feature in testcol:\n",
    "        if feature not in traincol:\n",
    "            print(feature)"
   ]
  },
  {
   "cell_type": "code",
   "execution_count": null,
   "metadata": {},
   "outputs": [],
   "source": [
    "for feature in traincol:\n",
    "        if feature not in testcol:\n",
    "            print(feature)"
   ]
  },
  {
   "cell_type": "code",
   "execution_count": 126,
   "metadata": {},
   "outputs": [],
   "source": [
    "train_target=train_data['compliance']\n",
    "train_data.drop(columns='compliance', inplace=True)"
   ]
  },
  {
   "cell_type": "code",
   "execution_count": 200,
   "metadata": {},
   "outputs": [],
   "source": [
    "X_train1, X_test1, y_train1, y_test1 = train_test_split(X_train, y_train, random_state=0)"
   ]
  },
  {
   "cell_type": "code",
   "execution_count": 201,
   "metadata": {},
   "outputs": [
    {
     "data": {
      "text/plain": [
       "GradientBoostingClassifier(criterion='friedman_mse', init=None,\n",
       "                           learning_rate=0.01, loss='deviance', max_depth=3,\n",
       "                           max_features=None, max_leaf_nodes=None,\n",
       "                           min_impurity_decrease=0.0, min_impurity_split=None,\n",
       "                           min_samples_leaf=1, min_samples_split=2,\n",
       "                           min_weight_fraction_leaf=0.0, n_estimators=100,\n",
       "                           n_iter_no_change=None, presort='auto',\n",
       "                           random_state=0, subsample=1.0, tol=0.0001,\n",
       "                           validation_fraction=0.1, verbose=0,\n",
       "                           warm_start=False)"
      ]
     },
     "execution_count": 201,
     "metadata": {},
     "output_type": "execute_result"
    }
   ],
   "source": [
    "clf = GradientBoostingClassifier(learning_rate = 0.01, max_depth = 3, random_state = 0)\n",
    "clf.fit(X_train1, y_train1)"
   ]
  },
  {
   "cell_type": "code",
   "execution_count": 202,
   "metadata": {},
   "outputs": [
    {
     "name": "stdout",
     "output_type": "stream",
     "text": [
      "Accuracy of GBDT classifier on training set: 0.94\n",
      "Accuracy of GBDT classifier on test set: 0.94\n"
     ]
    }
   ],
   "source": [
    "print('Accuracy of GBDT classifier on training set: {:.2f}'\n",
    "     .format(clf.score(X_train1, y_train1)))\n",
    "print('Accuracy of GBDT classifier on test set: {:.2f}'\n",
    "     .format(clf.score(X_test1, y_test1)))"
   ]
  },
  {
   "cell_type": "code",
   "execution_count": 203,
   "metadata": {},
   "outputs": [
    {
     "name": "stderr",
     "output_type": "stream",
     "text": [
      "C:\\Users\\dwang\\anaconda3\\lib\\site-packages\\matplotlib\\figure.py:98: MatplotlibDeprecationWarning: \n",
      "Adding an axes using the same arguments as a previous axes currently reuses the earlier instance.  In a future version, a new instance will always be created and returned.  Meanwhile, this warning can be suppressed, and the future behavior ensured, by passing a unique label to each axes instance.\n",
      "  \"Adding an axes using the same arguments as a previous axes \"\n"
     ]
    },
    {
     "data": {
      "image/png": "[encoded data removed]",
      "text/plain": [
       "<Figure size 432x288 with 1 Axes>"
      ]
     },
     "metadata": {
      "needs_background": "light"
     },
     "output_type": "display_data"
    }
   ],
   "source": [
    "from sklearn.metrics import roc_curve, auc\n",
    "y_score_gb = clf.fit(X_train1, y_train1).decision_function(X_test1)\n",
    "fpr_gb, tpr_gb, _ = roc_curve(y_test1, y_score_gb)\n",
    "roc_auc_gb = auc(fpr_gb, tpr_gb)\n",
    "\n",
    "plt.figure()\n",
    "plt.xlim([-0.01, 1.00])\n",
    "plt.ylim([-0.01, 1.01])\n",
    "plt.plot(fpr_gb, tpr_gb, lw=3, label='GB ROC curve (area = {:0.2f})'.format(roc_auc_gb))\n",
    "plt.xlabel('False Positive Rate', fontsize=16)\n",
    "plt.ylabel('True Positive Rate', fontsize=16)\n",
    "plt.title('ROC curve', fontsize=16)\n",
    "plt.legend(loc='lower right', fontsize=13)\n",
    "plt.plot([0, 1], [0, 1], color='navy', lw=3, linestyle='--')\n",
    "plt.axes().set_aspect('equal')\n",
    "plt.show()"
   ]
  },
  {
   "cell_type": "code",
   "execution_count": 138,
   "metadata": {},
   "outputs": [
    {
     "ename": "ValueError",
     "evalue": "Number of features of the model must match the input. Model n_features is 77 and input n_features is 78 ",
     "output_type": "error",
     "traceback": [
      "\u001b[1;31m---------------------------------------------------------------------------\u001b[0m",
      "\u001b[1;31mValueError\u001b[0m                                Traceback (most recent call last)",
      "\u001b[1;32m<ipython-input-138-b4a6a090c26d>\u001b[0m in \u001b[0;36m<module>\u001b[1;34m\u001b[0m\n\u001b[1;32m----> 1\u001b[1;33m \u001b[0mtest_score_gb\u001b[0m \u001b[1;33m=\u001b[0m \u001b[0mclf\u001b[0m\u001b[1;33m.\u001b[0m\u001b[0mfit\u001b[0m\u001b[1;33m(\u001b[0m\u001b[0mtrain_data\u001b[0m\u001b[1;33m,\u001b[0m \u001b[0mtrain_target\u001b[0m\u001b[1;33m)\u001b[0m\u001b[1;33m.\u001b[0m\u001b[0mdecision_function\u001b[0m\u001b[1;33m(\u001b[0m\u001b[0mtest_data\u001b[0m\u001b[1;33m)\u001b[0m\u001b[1;33m\u001b[0m\u001b[1;33m\u001b[0m\u001b[0m\n\u001b[0m",
      "\u001b[1;32m~\\anaconda3\\lib\\site-packages\\sklearn\\ensemble\\gradient_boosting.py\u001b[0m in \u001b[0;36mdecision_function\u001b[1;34m(self, X)\u001b[0m\n\u001b[0;32m   2087\u001b[0m         \"\"\"\n\u001b[0;32m   2088\u001b[0m         \u001b[0mX\u001b[0m \u001b[1;33m=\u001b[0m \u001b[0mcheck_array\u001b[0m\u001b[1;33m(\u001b[0m\u001b[0mX\u001b[0m\u001b[1;33m,\u001b[0m \u001b[0mdtype\u001b[0m\u001b[1;33m=\u001b[0m\u001b[0mDTYPE\u001b[0m\u001b[1;33m,\u001b[0m \u001b[0morder\u001b[0m\u001b[1;33m=\u001b[0m\u001b[1;34m\"C\"\u001b[0m\u001b[1;33m,\u001b[0m \u001b[0maccept_sparse\u001b[0m\u001b[1;33m=\u001b[0m\u001b[1;34m'csr'\u001b[0m\u001b[1;33m)\u001b[0m\u001b[1;33m\u001b[0m\u001b[1;33m\u001b[0m\u001b[0m\n\u001b[1;32m-> 2089\u001b[1;33m         \u001b[0mraw_predictions\u001b[0m \u001b[1;33m=\u001b[0m \u001b[0mself\u001b[0m\u001b[1;33m.\u001b[0m\u001b[0m_raw_predict\u001b[0m\u001b[1;33m(\u001b[0m\u001b[0mX\u001b[0m\u001b[1;33m)\u001b[0m\u001b[1;33m\u001b[0m\u001b[1;33m\u001b[0m\u001b[0m\n\u001b[0m\u001b[0;32m   2090\u001b[0m         \u001b[1;32mif\u001b[0m \u001b[0mraw_predictions\u001b[0m\u001b[1;33m.\u001b[0m\u001b[0mshape\u001b[0m\u001b[1;33m[\u001b[0m\u001b[1;36m1\u001b[0m\u001b[1;33m]\u001b[0m \u001b[1;33m==\u001b[0m \u001b[1;36m1\u001b[0m\u001b[1;33m:\u001b[0m\u001b[1;33m\u001b[0m\u001b[1;33m\u001b[0m\u001b[0m\n\u001b[0;32m   2091\u001b[0m             \u001b[1;32mreturn\u001b[0m \u001b[0mraw_predictions\u001b[0m\u001b[1;33m.\u001b[0m\u001b[0mravel\u001b[0m\u001b[1;33m(\u001b[0m\u001b[1;33m)\u001b[0m\u001b[1;33m\u001b[0m\u001b[1;33m\u001b[0m\u001b[0m\n",
      "\u001b[1;32m~\\anaconda3\\lib\\site-packages\\sklearn\\ensemble\\gradient_boosting.py\u001b[0m in \u001b[0;36m_raw_predict\u001b[1;34m(self, X)\u001b[0m\n\u001b[0;32m   1669\u001b[0m     \u001b[1;32mdef\u001b[0m \u001b[0m_raw_predict\u001b[0m\u001b[1;33m(\u001b[0m\u001b[0mself\u001b[0m\u001b[1;33m,\u001b[0m \u001b[0mX\u001b[0m\u001b[1;33m)\u001b[0m\u001b[1;33m:\u001b[0m\u001b[1;33m\u001b[0m\u001b[1;33m\u001b[0m\u001b[0m\n\u001b[0;32m   1670\u001b[0m         \u001b[1;34m\"\"\"Return the sum of the trees raw predictions (+ init estimator).\"\"\"\u001b[0m\u001b[1;33m\u001b[0m\u001b[1;33m\u001b[0m\u001b[0m\n\u001b[1;32m-> 1671\u001b[1;33m         \u001b[0mraw_predictions\u001b[0m \u001b[1;33m=\u001b[0m \u001b[0mself\u001b[0m\u001b[1;33m.\u001b[0m\u001b[0m_raw_predict_init\u001b[0m\u001b[1;33m(\u001b[0m\u001b[0mX\u001b[0m\u001b[1;33m)\u001b[0m\u001b[1;33m\u001b[0m\u001b[1;33m\u001b[0m\u001b[0m\n\u001b[0m\u001b[0;32m   1672\u001b[0m         predict_stages(self.estimators_, X, self.learning_rate,\n\u001b[0;32m   1673\u001b[0m                        raw_predictions)\n",
      "\u001b[1;32m~\\anaconda3\\lib\\site-packages\\sklearn\\ensemble\\gradient_boosting.py\u001b[0m in \u001b[0;36m_raw_predict_init\u001b[1;34m(self, X)\u001b[0m\n\u001b[0;32m   1655\u001b[0m         \u001b[1;34m\"\"\"Check input and compute raw predictions of the init estimtor.\"\"\"\u001b[0m\u001b[1;33m\u001b[0m\u001b[1;33m\u001b[0m\u001b[0m\n\u001b[0;32m   1656\u001b[0m         \u001b[0mself\u001b[0m\u001b[1;33m.\u001b[0m\u001b[0m_check_initialized\u001b[0m\u001b[1;33m(\u001b[0m\u001b[1;33m)\u001b[0m\u001b[1;33m\u001b[0m\u001b[1;33m\u001b[0m\u001b[0m\n\u001b[1;32m-> 1657\u001b[1;33m         \u001b[0mX\u001b[0m \u001b[1;33m=\u001b[0m \u001b[0mself\u001b[0m\u001b[1;33m.\u001b[0m\u001b[0mestimators_\u001b[0m\u001b[1;33m[\u001b[0m\u001b[1;36m0\u001b[0m\u001b[1;33m,\u001b[0m \u001b[1;36m0\u001b[0m\u001b[1;33m]\u001b[0m\u001b[1;33m.\u001b[0m\u001b[0m_validate_X_predict\u001b[0m\u001b[1;33m(\u001b[0m\u001b[0mX\u001b[0m\u001b[1;33m,\u001b[0m \u001b[0mcheck_input\u001b[0m\u001b[1;33m=\u001b[0m\u001b[1;32mTrue\u001b[0m\u001b[1;33m)\u001b[0m\u001b[1;33m\u001b[0m\u001b[1;33m\u001b[0m\u001b[0m\n\u001b[0m\u001b[0;32m   1658\u001b[0m         \u001b[1;32mif\u001b[0m \u001b[0mX\u001b[0m\u001b[1;33m.\u001b[0m\u001b[0mshape\u001b[0m\u001b[1;33m[\u001b[0m\u001b[1;36m1\u001b[0m\u001b[1;33m]\u001b[0m \u001b[1;33m!=\u001b[0m \u001b[0mself\u001b[0m\u001b[1;33m.\u001b[0m\u001b[0mn_features_\u001b[0m\u001b[1;33m:\u001b[0m\u001b[1;33m\u001b[0m\u001b[1;33m\u001b[0m\u001b[0m\n\u001b[0;32m   1659\u001b[0m             raise ValueError(\"X.shape[1] should be {0:d}, not {1:d}.\".format(\n",
      "\u001b[1;32m~\\anaconda3\\lib\\site-packages\\sklearn\\tree\\tree.py\u001b[0m in \u001b[0;36m_validate_X_predict\u001b[1;34m(self, X, check_input)\u001b[0m\n\u001b[0;32m    400\u001b[0m                              \u001b[1;34m\"match the input. Model n_features is %s and \"\u001b[0m\u001b[1;33m\u001b[0m\u001b[1;33m\u001b[0m\u001b[0m\n\u001b[0;32m    401\u001b[0m                              \u001b[1;34m\"input n_features is %s \"\u001b[0m\u001b[1;33m\u001b[0m\u001b[1;33m\u001b[0m\u001b[0m\n\u001b[1;32m--> 402\u001b[1;33m                              % (self.n_features_, n_features))\n\u001b[0m\u001b[0;32m    403\u001b[0m \u001b[1;33m\u001b[0m\u001b[0m\n\u001b[0;32m    404\u001b[0m         \u001b[1;32mreturn\u001b[0m \u001b[0mX\u001b[0m\u001b[1;33m\u001b[0m\u001b[1;33m\u001b[0m\u001b[0m\n",
      "\u001b[1;31mValueError\u001b[0m: Number of features of the model must match the input. Model n_features is 77 and input n_features is 78 "
     ]
    }
   ],
   "source": [
    "test_score_gb = clf.fit(train_data, train_target).decision_function(test_data)\n"
   ]
  },
  {
   "cell_type": "code",
   "execution_count": 139,
   "metadata": {},
   "outputs": [],
   "source": [
    "traincol=train_data.columns\n",
    "testcol=test_data.columns"
   ]
  },
  {
   "cell_type": "code",
   "execution_count": 140,
   "metadata": {},
   "outputs": [
    {
     "name": "stdout",
     "output_type": "stream",
     "text": [
      "agency_name_Health Department\n",
      "agency_name_Neighborhood City Halls\n",
      "state_BL\n"
     ]
    }
   ],
   "source": [
    "for feature in traincol:\n",
    "        if feature not in testcol:\n",
    "            print(feature)"
   ]
  },
  {
   "cell_type": "code",
   "execution_count": 141,
   "metadata": {},
   "outputs": [
    {
     "name": "stdout",
     "output_type": "stream",
     "text": [
      "disposition_Responsible (Fine Waived) by Admis\n",
      "disposition_Responsible - Compl/Adj by Default\n",
      "disposition_Responsible - Compl/Adj by Determi\n",
      "disposition_Responsible by Dismissal\n"
     ]
    }
   ],
   "source": [
    "for feature in testcol:\n",
    "        if feature not in traincol:\n",
    "            print(feature)"
   ]
  },
  {
   "cell_type": "code",
   "execution_count": 142,
   "metadata": {},
   "outputs": [
    {
     "data": {
      "text/plain": [
       "77"
      ]
     },
     "execution_count": 142,
     "metadata": {},
     "output_type": "execute_result"
    }
   ],
   "source": [
    "len(traincol)"
   ]
  },
  {
   "cell_type": "code",
   "execution_count": 143,
   "metadata": {},
   "outputs": [
    {
     "data": {
      "text/plain": [
       "78"
      ]
     },
     "execution_count": 143,
     "metadata": {},
     "output_type": "execute_result"
    }
   ],
   "source": [
    "len(testcol)"
   ]
  },
  {
   "cell_type": "code",
   "execution_count": null,
   "metadata": {},
   "outputs": [],
   "source": []
  },
  {
   "cell_type": "code",
   "execution_count": null,
   "metadata": {},
   "outputs": [],
   "source": []
  },
  {
   "cell_type": "code",
   "execution_count": null,
   "metadata": {},
   "outputs": [],
   "source": []
  },
  {
   "cell_type": "code",
   "execution_count": null,
   "metadata": {},
   "outputs": [],
   "source": []
  },
  {
   "cell_type": "code",
   "execution_count": 43,
   "metadata": {},
   "outputs": [
    {
     "data": {
      "text/plain": [
       "227"
      ]
     },
     "execution_count": 43,
     "metadata": {},
     "output_type": "execute_result"
    }
   ],
   "source": [
    "train_data['hearing_date'].isnull().sum()"
   ]
  },
  {
   "cell_type": "code",
   "execution_count": 47,
   "metadata": {},
   "outputs": [],
   "source": [
    "train_data['hearing_date']=pd.to_datetime(train_data['hearing_date'], format='%Y-%m-%d %H:%M:%S')\n",
    "train_data['ticket_issued_date']=pd.to_datetime(train_data['ticket_issued_date'], format='%Y-%m-%d %H:%M:%S')"
   ]
  },
  {
   "cell_type": "code",
   "execution_count": 50,
   "metadata": {},
   "outputs": [],
   "source": [
    "test_data['hearing_date']=pd.to_datetime(test_data['hearing_date'], format='%Y-%m-%d %H:%M:%S')\n",
    "test_data['ticket_issued_date']=pd.to_datetime(test_data['ticket_issued_date'], format='%Y-%m-%d %H:%M:%S')"
   ]
  },
  {
   "cell_type": "code",
   "execution_count": 65,
   "metadata": {},
   "outputs": [
    {
     "data": {
      "text/plain": [
       "60"
      ]
     },
     "execution_count": 65,
     "metadata": {},
     "output_type": "execute_result"
    }
   ],
   "source": [
    "(train_data.loc[89535,'hearing_date']-train_data.loc[89535,'ticket_issued_date']).days"
   ]
  },
  {
   "cell_type": "code",
   "execution_count": 71,
   "metadata": {},
   "outputs": [],
   "source": [
    "train_data['time_gap'] = train_data.apply(lambda row: time_gap(row['hearing_date'], row['ticket_issued_date']), axis=1)\n",
    "test_data['time_gap'] = test_data.apply(lambda row: time_gap(row['hearing_date'], row['ticket_issued_date']), axis=1)\n"
   ]
  },
  {
   "cell_type": "code",
   "execution_count": 81,
   "metadata": {},
   "outputs": [],
   "source": [
    "train_data.loc[train_data['time_gap'].isnull(),'time_gap']=train_data['time_gap'].mean()"
   ]
  },
  {
   "cell_type": "code",
   "execution_count": 84,
   "metadata": {},
   "outputs": [
    {
     "data": {
      "text/plain": [
       "agency_name                      Buildings, Safety Engineering & Env Department\n",
       "inspector_name                                                 Steele, Jonathan\n",
       "violator_name                                              PROPERTIES LLC, JACO\n",
       "violation_street_number                                                   12659\n",
       "violation_street_name                                                  WOODMONT\n",
       "violation_zip_code                                                          NaN\n",
       "mailing_address_str_number                                                18175\n",
       "mailing_address_str_name                                           MARYLAND DR.\n",
       "city                                                                 SOUTHFIELD\n",
       "state                                                                        MI\n",
       "zip_code                                                                  48075\n",
       "non_us_str_code                                                             NaN\n",
       "country                                                                     USA\n",
       "ticket_issued_date                                          2005-02-14 10:15:00\n",
       "hearing_date                                                                NaT\n",
       "violation_code                                                        9-1-36(a)\n",
       "violation_description         Failure of owner to obtain certificate of comp...\n",
       "disposition                                              Responsible by Default\n",
       "fine_amount                                                                 250\n",
       "admin_fee                                                                    20\n",
       "state_fee                                                                    10\n",
       "late_fee                                                                      0\n",
       "discount_amount                                                              25\n",
       "clean_up_cost                                                                 0\n",
       "judgment_amount                                                             280\n",
       "payment_amount                                                              255\n",
       "balance_due                                                                   0\n",
       "payment_date                                                2005-04-13 00:00:00\n",
       "payment_status                                                     PAID IN FULL\n",
       "collection_status                                                           NaN\n",
       "grafitti_status                                                             NaN\n",
       "compliance_detail                compliant by payment with no scheduled hearing\n",
       "compliance                                                                    1\n",
       "lat                                                                     42.3808\n",
       "lon                                                                     -83.209\n",
       "time_gap                                                                72.6474\n",
       "Name: 21422, dtype: object"
      ]
     },
     "execution_count": 84,
     "metadata": {},
     "output_type": "execute_result"
    }
   ],
   "source": [
    "train_data.loc[21422,:]"
   ]
  },
  {
   "cell_type": "code",
   "execution_count": 85,
   "metadata": {},
   "outputs": [],
   "source": [
    "train_data.lat.fillna(method='pad', inplace=True)\n",
    "train_data.lon.fillna(method='pad', inplace=True)\n",
    "train_data.state.fillna(method='pad', inplace=True)\n",
    "test_data.lat.fillna(method='pad', inplace=True)\n",
    "test_data.lon.fillna(method='pad', inplace=True)\n",
    "test_data.state.fillna(method='pad', inplace=True)"
   ]
  },
  {
   "cell_type": "code",
   "execution_count": 86,
   "metadata": {},
   "outputs": [],
   "source": [
    "list_to_remove_train = [\n",
    "    'balance_due',\n",
    "    'collection_status',\n",
    "    'compliance_detail',\n",
    "    'payment_amount',\n",
    "    'payment_date',\n",
    "    'payment_status'\n",
    "]\n",
    "list_to_remove_all = ['fine_amount', 'violator_name', 'zip_code', 'country', 'city',\n",
    "                        'inspector_name', 'violation_street_number', 'violation_street_name',\n",
    "                        'violation_zip_code', 'violation_description',\n",
    "                        'mailing_address_str_number', 'mailing_address_str_name',\n",
    "                        'non_us_str_code',\n",
    "                        'ticket_issued_date', 'hearing_date', 'grafitti_status', 'violation_code']\n"
   ]
  },
  {
   "cell_type": "code",
   "execution_count": 87,
   "metadata": {},
   "outputs": [],
   "source": [
    "train_data.drop(list_to_remove_train, axis=1, inplace=True)\n",
    "train_data.drop(list_to_remove_all, axis=1, inplace=True)\n",
    "test_data.drop(list_to_remove_all, axis=1, inplace=True)"
   ]
  },
  {
   "cell_type": "code",
   "execution_count": 90,
   "metadata": {},
   "outputs": [
    {
     "data": {
      "text/html": [
       "<div>\n",
       "<style scoped>\n",
       "    .dataframe tbody tr th:only-of-type {\n",
       "        vertical-align: middle;\n",
       "    }\n",
       "\n",
       "    .dataframe tbody tr th {\n",
       "        vertical-align: top;\n",
       "    }\n",
       "\n",
       "    .dataframe thead th {\n",
       "        text-align: right;\n",
       "    }\n",
       "</style>\n",
       "<table border=\"1\" class=\"dataframe\">\n",
       "  <thead>\n",
       "    <tr style=\"text-align: right;\">\n",
       "      <th></th>\n",
       "      <th>agency_name</th>\n",
       "      <th>state</th>\n",
       "      <th>disposition</th>\n",
       "      <th>admin_fee</th>\n",
       "      <th>state_fee</th>\n",
       "      <th>late_fee</th>\n",
       "      <th>discount_amount</th>\n",
       "      <th>clean_up_cost</th>\n",
       "      <th>judgment_amount</th>\n",
       "      <th>lat</th>\n",
       "      <th>lon</th>\n",
       "      <th>time_gap</th>\n",
       "    </tr>\n",
       "    <tr>\n",
       "      <th>ticket_id</th>\n",
       "      <th></th>\n",
       "      <th></th>\n",
       "      <th></th>\n",
       "      <th></th>\n",
       "      <th></th>\n",
       "      <th></th>\n",
       "      <th></th>\n",
       "      <th></th>\n",
       "      <th></th>\n",
       "      <th></th>\n",
       "      <th></th>\n",
       "      <th></th>\n",
       "    </tr>\n",
       "  </thead>\n",
       "  <tbody>\n",
       "    <tr>\n",
       "      <th>284932</th>\n",
       "      <td>Department of Public Works</td>\n",
       "      <td>MI</td>\n",
       "      <td>Responsible by Default</td>\n",
       "      <td>20.0</td>\n",
       "      <td>10.0</td>\n",
       "      <td>20.0</td>\n",
       "      <td>0.0</td>\n",
       "      <td>0.0</td>\n",
       "      <td>250.0</td>\n",
       "      <td>42.407581</td>\n",
       "      <td>-82.986642</td>\n",
       "      <td>14.0</td>\n",
       "    </tr>\n",
       "    <tr>\n",
       "      <th>285362</th>\n",
       "      <td>Department of Public Works</td>\n",
       "      <td>MI</td>\n",
       "      <td>Responsible by Default</td>\n",
       "      <td>20.0</td>\n",
       "      <td>10.0</td>\n",
       "      <td>100.0</td>\n",
       "      <td>0.0</td>\n",
       "      <td>0.0</td>\n",
       "      <td>1130.0</td>\n",
       "      <td>42.426239</td>\n",
       "      <td>-83.238259</td>\n",
       "      <td>31.0</td>\n",
       "    </tr>\n",
       "    <tr>\n",
       "      <th>285361</th>\n",
       "      <td>Department of Public Works</td>\n",
       "      <td>MI</td>\n",
       "      <td>Responsible by Default</td>\n",
       "      <td>20.0</td>\n",
       "      <td>10.0</td>\n",
       "      <td>10.0</td>\n",
       "      <td>0.0</td>\n",
       "      <td>0.0</td>\n",
       "      <td>140.0</td>\n",
       "      <td>42.426239</td>\n",
       "      <td>-83.238259</td>\n",
       "      <td>31.0</td>\n",
       "    </tr>\n",
       "    <tr>\n",
       "      <th>285338</th>\n",
       "      <td>Department of Public Works</td>\n",
       "      <td>MI</td>\n",
       "      <td>Responsible by Default</td>\n",
       "      <td>20.0</td>\n",
       "      <td>10.0</td>\n",
       "      <td>20.0</td>\n",
       "      <td>0.0</td>\n",
       "      <td>0.0</td>\n",
       "      <td>250.0</td>\n",
       "      <td>42.309661</td>\n",
       "      <td>-83.122426</td>\n",
       "      <td>32.0</td>\n",
       "    </tr>\n",
       "    <tr>\n",
       "      <th>285346</th>\n",
       "      <td>Department of Public Works</td>\n",
       "      <td>MI</td>\n",
       "      <td>Responsible by Default</td>\n",
       "      <td>20.0</td>\n",
       "      <td>10.0</td>\n",
       "      <td>10.0</td>\n",
       "      <td>0.0</td>\n",
       "      <td>0.0</td>\n",
       "      <td>140.0</td>\n",
       "      <td>42.308830</td>\n",
       "      <td>-83.121116</td>\n",
       "      <td>39.0</td>\n",
       "    </tr>\n",
       "  </tbody>\n",
       "</table>\n",
       "</div>"
      ],
      "text/plain": [
       "                          agency_name state             disposition  \\\n",
       "ticket_id                                                             \n",
       "284932     Department of Public Works    MI  Responsible by Default   \n",
       "285362     Department of Public Works    MI  Responsible by Default   \n",
       "285361     Department of Public Works    MI  Responsible by Default   \n",
       "285338     Department of Public Works    MI  Responsible by Default   \n",
       "285346     Department of Public Works    MI  Responsible by Default   \n",
       "\n",
       "           admin_fee  state_fee  late_fee  discount_amount  clean_up_cost  \\\n",
       "ticket_id                                                                   \n",
       "284932          20.0       10.0      20.0              0.0            0.0   \n",
       "285362          20.0       10.0     100.0              0.0            0.0   \n",
       "285361          20.0       10.0      10.0              0.0            0.0   \n",
       "285338          20.0       10.0      20.0              0.0            0.0   \n",
       "285346          20.0       10.0      10.0              0.0            0.0   \n",
       "\n",
       "           judgment_amount        lat        lon  time_gap  \n",
       "ticket_id                                                   \n",
       "284932               250.0  42.407581 -82.986642      14.0  \n",
       "285362              1130.0  42.426239 -83.238259      31.0  \n",
       "285361               140.0  42.426239 -83.238259      31.0  \n",
       "285338               250.0  42.309661 -83.122426      32.0  \n",
       "285346               140.0  42.308830 -83.121116      39.0  "
      ]
     },
     "execution_count": 90,
     "metadata": {},
     "output_type": "execute_result"
    }
   ],
   "source": [
    "test_data.head()"
   ]
  },
  {
   "cell_type": "code",
   "execution_count": 91,
   "metadata": {
    "scrolled": true
   },
   "outputs": [
    {
     "data": {
      "text/html": [
       "<div>\n",
       "<style scoped>\n",
       "    .dataframe tbody tr th:only-of-type {\n",
       "        vertical-align: middle;\n",
       "    }\n",
       "\n",
       "    .dataframe tbody tr th {\n",
       "        vertical-align: top;\n",
       "    }\n",
       "\n",
       "    .dataframe thead th {\n",
       "        text-align: right;\n",
       "    }\n",
       "</style>\n",
       "<table border=\"1\" class=\"dataframe\">\n",
       "  <thead>\n",
       "    <tr style=\"text-align: right;\">\n",
       "      <th></th>\n",
       "      <th>admin_fee</th>\n",
       "      <th>state_fee</th>\n",
       "      <th>late_fee</th>\n",
       "      <th>discount_amount</th>\n",
       "      <th>clean_up_cost</th>\n",
       "      <th>judgment_amount</th>\n",
       "      <th>compliance</th>\n",
       "      <th>lat</th>\n",
       "      <th>lon</th>\n",
       "      <th>time_gap</th>\n",
       "    </tr>\n",
       "  </thead>\n",
       "  <tbody>\n",
       "    <tr>\n",
       "      <th>count</th>\n",
       "      <td>159880.0</td>\n",
       "      <td>159880.0</td>\n",
       "      <td>159880.000000</td>\n",
       "      <td>159880.000000</td>\n",
       "      <td>159880.0</td>\n",
       "      <td>159880.000000</td>\n",
       "      <td>159880.000000</td>\n",
       "      <td>159880.000000</td>\n",
       "      <td>159880.000000</td>\n",
       "      <td>159880.000000</td>\n",
       "    </tr>\n",
       "    <tr>\n",
       "      <th>mean</th>\n",
       "      <td>20.0</td>\n",
       "      <td>10.0</td>\n",
       "      <td>33.651512</td>\n",
       "      <td>0.195959</td>\n",
       "      <td>0.0</td>\n",
       "      <td>420.650218</td>\n",
       "      <td>0.072536</td>\n",
       "      <td>42.389747</td>\n",
       "      <td>-83.111528</td>\n",
       "      <td>72.647410</td>\n",
       "    </tr>\n",
       "    <tr>\n",
       "      <th>std</th>\n",
       "      <td>0.0</td>\n",
       "      <td>0.0</td>\n",
       "      <td>67.692916</td>\n",
       "      <td>4.290344</td>\n",
       "      <td>0.0</td>\n",
       "      <td>742.555062</td>\n",
       "      <td>0.259374</td>\n",
       "      <td>0.037120</td>\n",
       "      <td>0.093515</td>\n",
       "      <td>62.621438</td>\n",
       "    </tr>\n",
       "    <tr>\n",
       "      <th>min</th>\n",
       "      <td>20.0</td>\n",
       "      <td>10.0</td>\n",
       "      <td>0.000000</td>\n",
       "      <td>0.000000</td>\n",
       "      <td>0.0</td>\n",
       "      <td>0.000000</td>\n",
       "      <td>0.000000</td>\n",
       "      <td>42.145257</td>\n",
       "      <td>-84.403766</td>\n",
       "      <td>-337.000000</td>\n",
       "    </tr>\n",
       "    <tr>\n",
       "      <th>25%</th>\n",
       "      <td>20.0</td>\n",
       "      <td>10.0</td>\n",
       "      <td>10.000000</td>\n",
       "      <td>0.000000</td>\n",
       "      <td>0.0</td>\n",
       "      <td>250.000000</td>\n",
       "      <td>0.000000</td>\n",
       "      <td>42.364537</td>\n",
       "      <td>-83.185854</td>\n",
       "      <td>31.000000</td>\n",
       "    </tr>\n",
       "    <tr>\n",
       "      <th>50%</th>\n",
       "      <td>20.0</td>\n",
       "      <td>10.0</td>\n",
       "      <td>25.000000</td>\n",
       "      <td>0.000000</td>\n",
       "      <td>0.0</td>\n",
       "      <td>305.000000</td>\n",
       "      <td>0.000000</td>\n",
       "      <td>42.392575</td>\n",
       "      <td>-83.124517</td>\n",
       "      <td>54.000000</td>\n",
       "    </tr>\n",
       "    <tr>\n",
       "      <th>75%</th>\n",
       "      <td>20.0</td>\n",
       "      <td>10.0</td>\n",
       "      <td>25.000000</td>\n",
       "      <td>0.000000</td>\n",
       "      <td>0.0</td>\n",
       "      <td>305.000000</td>\n",
       "      <td>0.000000</td>\n",
       "      <td>42.419160</td>\n",
       "      <td>-83.033202</td>\n",
       "      <td>100.000000</td>\n",
       "    </tr>\n",
       "    <tr>\n",
       "      <th>max</th>\n",
       "      <td>20.0</td>\n",
       "      <td>10.0</td>\n",
       "      <td>1000.000000</td>\n",
       "      <td>350.000000</td>\n",
       "      <td>0.0</td>\n",
       "      <td>11030.000000</td>\n",
       "      <td>1.000000</td>\n",
       "      <td>44.785389</td>\n",
       "      <td>-82.512936</td>\n",
       "      <td>7933.000000</td>\n",
       "    </tr>\n",
       "  </tbody>\n",
       "</table>\n",
       "</div>"
      ],
      "text/plain": [
       "       admin_fee  state_fee       late_fee  discount_amount  clean_up_cost  \\\n",
       "count   159880.0   159880.0  159880.000000    159880.000000       159880.0   \n",
       "mean        20.0       10.0      33.651512         0.195959            0.0   \n",
       "std          0.0        0.0      67.692916         4.290344            0.0   \n",
       "min         20.0       10.0       0.000000         0.000000            0.0   \n",
       "25%         20.0       10.0      10.000000         0.000000            0.0   \n",
       "50%         20.0       10.0      25.000000         0.000000            0.0   \n",
       "75%         20.0       10.0      25.000000         0.000000            0.0   \n",
       "max         20.0       10.0    1000.000000       350.000000            0.0   \n",
       "\n",
       "       judgment_amount     compliance            lat            lon  \\\n",
       "count    159880.000000  159880.000000  159880.000000  159880.000000   \n",
       "mean        420.650218       0.072536      42.389747     -83.111528   \n",
       "std         742.555062       0.259374       0.037120       0.093515   \n",
       "min           0.000000       0.000000      42.145257     -84.403766   \n",
       "25%         250.000000       0.000000      42.364537     -83.185854   \n",
       "50%         305.000000       0.000000      42.392575     -83.124517   \n",
       "75%         305.000000       0.000000      42.419160     -83.033202   \n",
       "max       11030.000000       1.000000      44.785389     -82.512936   \n",
       "\n",
       "            time_gap  \n",
       "count  159880.000000  \n",
       "mean       72.647410  \n",
       "std        62.621438  \n",
       "min      -337.000000  \n",
       "25%        31.000000  \n",
       "50%        54.000000  \n",
       "75%       100.000000  \n",
       "max      7933.000000  "
      ]
     },
     "execution_count": 91,
     "metadata": {},
     "output_type": "execute_result"
    }
   ],
   "source": [
    "train_data.describe()"
   ]
  },
  {
   "cell_type": "code",
   "execution_count": 92,
   "metadata": {},
   "outputs": [],
   "source": [
    "train_features = train_data.columns.drop('compliance')\n",
    "train_features_set = set(train_features)"
   ]
  },
  {
   "cell_type": "code",
   "execution_count": 102,
   "metadata": {},
   "outputs": [
    {
     "data": {
      "text/plain": [
       "list"
      ]
     },
     "execution_count": 102,
     "metadata": {},
     "output_type": "execute_result"
    }
   ],
   "source": [
    "type(train_features)"
   ]
  },
  {
   "cell_type": "code",
   "execution_count": 220,
   "metadata": {},
   "outputs": [],
   "source": [
    "t_data = pd.read_csv('readonly/t.csv',encoding = 'ISO-8859-1',low_memory=False)"
   ]
  },
  {
   "cell_type": "code",
   "execution_count": 218,
   "metadata": {},
   "outputs": [
    {
     "data": {
      "text/html": [
       "<div>\n",
       "<style scoped>\n",
       "    .dataframe tbody tr th:only-of-type {\n",
       "        vertical-align: middle;\n",
       "    }\n",
       "\n",
       "    .dataframe tbody tr th {\n",
       "        vertical-align: top;\n",
       "    }\n",
       "\n",
       "    .dataframe thead th {\n",
       "        text-align: right;\n",
       "    }\n",
       "</style>\n",
       "<table border=\"1\" class=\"dataframe\">\n",
       "  <thead>\n",
       "    <tr style=\"text-align: right;\">\n",
       "      <th></th>\n",
       "      <th>ticket_id</th>\n",
       "      <th>agency_name</th>\n",
       "      <th>inspector_name</th>\n",
       "      <th>violator_name</th>\n",
       "      <th>violation_street_number</th>\n",
       "      <th>violation_street_name</th>\n",
       "      <th>violation_zip_code</th>\n",
       "      <th>mailing_address_str_number</th>\n",
       "      <th>mailing_address_str_name</th>\n",
       "      <th>city</th>\n",
       "      <th>state</th>\n",
       "      <th>zip_code</th>\n",
       "      <th>non_us_str_code</th>\n",
       "      <th>country</th>\n",
       "      <th>ticket_issued_date</th>\n",
       "      <th>hearing_date</th>\n",
       "      <th>violation_code</th>\n",
       "      <th>violation_description</th>\n",
       "      <th>disposition</th>\n",
       "      <th>fine_amount</th>\n",
       "      <th>admin_fee</th>\n",
       "      <th>state_fee</th>\n",
       "      <th>late_fee</th>\n",
       "      <th>discount_amount</th>\n",
       "      <th>clean_up_cost</th>\n",
       "      <th>judgment_amount</th>\n",
       "      <th>grafitti_status</th>\n",
       "    </tr>\n",
       "  </thead>\n",
       "  <tbody>\n",
       "    <tr>\n",
       "      <th>0</th>\n",
       "      <td>284932</td>\n",
       "      <td>Department of Public Works</td>\n",
       "      <td>Granberry, Aisha B</td>\n",
       "      <td>FLUELLEN, JOHN A</td>\n",
       "      <td>10041.0</td>\n",
       "      <td>ROSEBERRY</td>\n",
       "      <td>NaN</td>\n",
       "      <td>141</td>\n",
       "      <td>ROSEBERRY</td>\n",
       "      <td>DETROIT</td>\n",
       "      <td>MI</td>\n",
       "      <td>48213</td>\n",
       "      <td>NaN</td>\n",
       "      <td>USA</td>\n",
       "      <td>2012-01-04 14:00:00</td>\n",
       "      <td>2012-01-19 09:00:00</td>\n",
       "      <td>22-2-61</td>\n",
       "      <td>Failure to secure City or Private solid waste ...</td>\n",
       "      <td>Responsible by Default</td>\n",
       "      <td>200.0</td>\n",
       "      <td>20.0</td>\n",
       "      <td>10.0</td>\n",
       "      <td>20.0</td>\n",
       "      <td>0.0</td>\n",
       "      <td>0.0</td>\n",
       "      <td>250.0</td>\n",
       "      <td>NaN</td>\n",
       "    </tr>\n",
       "    <tr>\n",
       "      <th>1</th>\n",
       "      <td>285362</td>\n",
       "      <td>Department of Public Works</td>\n",
       "      <td>Lusk, Gertrina</td>\n",
       "      <td>WHIGHAM, THELMA</td>\n",
       "      <td>18520.0</td>\n",
       "      <td>EVERGREEN</td>\n",
       "      <td>NaN</td>\n",
       "      <td>19136</td>\n",
       "      <td>GLASTONBURY</td>\n",
       "      <td>DETROIT</td>\n",
       "      <td>MI</td>\n",
       "      <td>48219</td>\n",
       "      <td>NaN</td>\n",
       "      <td>USA</td>\n",
       "      <td>2012-01-05 09:50:00</td>\n",
       "      <td>2012-02-06 09:00:00</td>\n",
       "      <td>22-2-88(b)</td>\n",
       "      <td>Allowing bulk solid waste to lie or accumulate...</td>\n",
       "      <td>Responsible by Default</td>\n",
       "      <td>1000.0</td>\n",
       "      <td>20.0</td>\n",
       "      <td>10.0</td>\n",
       "      <td>100.0</td>\n",
       "      <td>0.0</td>\n",
       "      <td>0.0</td>\n",
       "      <td>1130.0</td>\n",
       "      <td>NaN</td>\n",
       "    </tr>\n",
       "    <tr>\n",
       "      <th>2</th>\n",
       "      <td>285361</td>\n",
       "      <td>Department of Public Works</td>\n",
       "      <td>Lusk, Gertrina</td>\n",
       "      <td>WHIGHAM, THELMA</td>\n",
       "      <td>18520.0</td>\n",
       "      <td>EVERGREEN</td>\n",
       "      <td>NaN</td>\n",
       "      <td>19136</td>\n",
       "      <td>GLASTONBURY</td>\n",
       "      <td>DETROIT</td>\n",
       "      <td>MI</td>\n",
       "      <td>48219</td>\n",
       "      <td>NaN</td>\n",
       "      <td>USA</td>\n",
       "      <td>2012-01-05 09:50:00</td>\n",
       "      <td>2012-02-06 09:00:00</td>\n",
       "      <td>22-2-43</td>\n",
       "      <td>Improper placement of Courville container betw...</td>\n",
       "      <td>Responsible by Default</td>\n",
       "      <td>100.0</td>\n",
       "      <td>20.0</td>\n",
       "      <td>10.0</td>\n",
       "      <td>10.0</td>\n",
       "      <td>0.0</td>\n",
       "      <td>0.0</td>\n",
       "      <td>140.0</td>\n",
       "      <td>NaN</td>\n",
       "    </tr>\n",
       "  </tbody>\n",
       "</table>\n",
       "</div>"
      ],
      "text/plain": [
       "   ticket_id                 agency_name      inspector_name  \\\n",
       "0     284932  Department of Public Works  Granberry, Aisha B   \n",
       "1     285362  Department of Public Works      Lusk, Gertrina   \n",
       "2     285361  Department of Public Works      Lusk, Gertrina   \n",
       "\n",
       "      violator_name  violation_street_number violation_street_name  \\\n",
       "0  FLUELLEN, JOHN A                  10041.0             ROSEBERRY   \n",
       "1   WHIGHAM, THELMA                  18520.0             EVERGREEN   \n",
       "2   WHIGHAM, THELMA                  18520.0             EVERGREEN   \n",
       "\n",
       "  violation_zip_code mailing_address_str_number mailing_address_str_name  \\\n",
       "0                NaN                        141                ROSEBERRY   \n",
       "1                NaN                      19136              GLASTONBURY   \n",
       "2                NaN                      19136              GLASTONBURY   \n",
       "\n",
       "      city state zip_code  non_us_str_code country   ticket_issued_date  \\\n",
       "0  DETROIT    MI    48213              NaN     USA  2012-01-04 14:00:00   \n",
       "1  DETROIT    MI    48219              NaN     USA  2012-01-05 09:50:00   \n",
       "2  DETROIT    MI    48219              NaN     USA  2012-01-05 09:50:00   \n",
       "\n",
       "          hearing_date violation_code  \\\n",
       "0  2012-01-19 09:00:00        22-2-61   \n",
       "1  2012-02-06 09:00:00     22-2-88(b)   \n",
       "2  2012-02-06 09:00:00        22-2-43   \n",
       "\n",
       "                               violation_description             disposition  \\\n",
       "0  Failure to secure City or Private solid waste ...  Responsible by Default   \n",
       "1  Allowing bulk solid waste to lie or accumulate...  Responsible by Default   \n",
       "2  Improper placement of Courville container betw...  Responsible by Default   \n",
       "\n",
       "   fine_amount  admin_fee  state_fee  late_fee  discount_amount  \\\n",
       "0        200.0       20.0       10.0      20.0              0.0   \n",
       "1       1000.0       20.0       10.0     100.0              0.0   \n",
       "2        100.0       20.0       10.0      10.0              0.0   \n",
       "\n",
       "   clean_up_cost  judgment_amount grafitti_status  \n",
       "0            0.0            250.0             NaN  \n",
       "1            0.0           1130.0             NaN  \n",
       "2            0.0            140.0             NaN  "
      ]
     },
     "execution_count": 218,
     "metadata": {},
     "output_type": "execute_result"
    }
   ],
   "source": [
    "t_data.head(3)"
   ]
  },
  {
   "cell_type": "code",
   "execution_count": null,
   "metadata": {},
   "outputs": [],
   "source": []
  }
 ],
 "metadata": {
  "coursera": {
   "course_slug": "python-machine-learning",
   "graded_item_id": "nNS8l",
   "launcher_item_id": "yWWk7",
   "part_id": "w8BSS"
  },
  "kernelspec": {
   "display_name": "Python 3",
   "language": "python",
   "name": "python3"
  },
  "language_info": {
   "codemirror_mode": {
    "name": "ipython",
    "version": 3
   },
   "file_extension": ".py",
   "mimetype": "text/x-python",
   "name": "python",
   "nbconvert_exporter": "python",
   "pygments_lexer": "ipython3",
   "version": "3.7.1"
  }
 },
 "nbformat": 4,
 "nbformat_minor": 2
}
